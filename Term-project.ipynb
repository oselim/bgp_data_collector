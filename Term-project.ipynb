{
 "cells": [
  {
   "cell_type": "markdown",
   "id": "1083579e-9955-47cd-8cb1-673fc5df04c9",
   "metadata": {},
   "source": [
    "### Track the extent and evolution of the use of BGP communities.  \n",
    "### To this end, please use a set of routing tables from BGPStream that covers the period 2011-2021.  \n",
    "### More specifically, use all the routing tables that were available in the first seven days of January of every second year, that is 2011, 2013, 2015, 2017, 2019 and 2021.  \n",
    "### Then, identify how many ASes are using communities, rank ASes based on the number of prefixes that are tagged with communities, check what tier-1 ASes use communities for by matching the used communities to what they list publicly. "
   ]
  },
  {
   "cell_type": "markdown",
   "id": "8a3ddfc5-d4a0-484a-b6be-407edd399459",
   "metadata": {},
   "source": [
    "https://labs.ripe.net/author/florian_streibelt/bgp-communities-a-weapon-for-the-internet-part-1/"
   ]
  },
  {
   "cell_type": "code",
   "execution_count": null,
   "id": "ff1e4500-019c-42d4-a0a2-d0c62d7ebba7",
   "metadata": {
    "tags": [
     "outputPrepend"
    ]
   },
   "outputs": [],
   "source": [
    "import pybgpstream\n",
    "\n",
    "dir_name = 'data/'\n",
    "from_time = \"2017-01-01 00:00:00\"\n",
    "until_time = \"2017-01-01 00:02:00 UTC\"\n",
    "collectors = [\"route-views.sg\", \"route-views.eqix\"]\n",
    "record_type = \"ribs\"\n",
    "# filter = \"peer 11666 and prefix more 210.180.0.0/16\"\n",
    "# file_name = \n",
    "\n",
    "stream = pybgpstream.BGPStream(\n",
    "    from_time=from_time, until_time=until_time,\n",
    "    collectors=collectors,\n",
    "    record_type=record_type\n",
    "    # filter=filter\n",
    ")\n",
    "\n",
    "# f = open(\"demofile3.txt\", \"w\")\n",
    "\n",
    "for elem in stream:\n",
    "    # record fields can be accessed directly from elem\n",
    "    # e.g. elem.time\n",
    "    # or via elem.record\n",
    "    # e.g. elem.record.time\n",
    "    print(str(stream.__sizeof__()) + '  ' + elem.__str__())\n",
    "    # f.write(elem.__str__() + '\\n')\n",
    "    # f.flush()\n",
    "\n",
    "# f.close()"
   ]
  },
  {
   "cell_type": "code",
   "execution_count": null,
   "id": "f90c8bb7-d36b-4f52-9bf0-4aca3bb62e40",
   "metadata": {
    "tags": []
   },
   "outputs": [],
   "source": [
    "import pybgpstream\n",
    "\n",
    "# create and configure the stream\n",
    "stream = pybgpstream.BGPStream(\n",
    "   from_time=\"2017-07-07 00:00:00\", until_time=\"2017-07-07 00:10:00 UTC\",\n",
    "   collectors=[\"route-views.sg\", \"route-views.eqix\"],\n",
    "   record_type=\"updates\",\n",
    "   filter=\"peer 11666 and prefix more 210.180.0.0/16\"\n",
    ")\n",
    "\n",
    "# add any additional (or dynamic) filters\n",
    "# e.g. from peer AS 11666 regarding the more-specifics of 210.180.0.0/16:\n",
    "# stream.parse_filter_string(\"peer 11666 and prefix more 210.180.0.0/16\")\n",
    "# or using the old filter interface:\n",
    "# stream.add_filter(\"peer-asn\", \"11666\")\n",
    "# stream.add_filter(\"prefix-more\", \"210.180.0.0/16\")\n",
    "\n",
    "# read elems\n",
    "# for elem in stream:\n",
    "   # record fields can be accessed directly from elem\n",
    "   # e.g. elem.time\n",
    "   # or via elem.record\n",
    "   # e.g. elem.record.time\n",
    "#    print(elem)\n",
    "\n",
    "# alternatively, records and elems can be read in nested loops:\n",
    "for rec in stream.records():\n",
    "   # do something with rec (e.g., choose to continue based on timestamp)\n",
    "#    print(\"Received %s record at time %d from collector %s\" % (rec.type, rec.time, rec.collector))\n",
    "#    print(rec)\n",
    "   for elem in rec:\n",
    "      # do something with rec and/or elem\n",
    "      print(\"  Elem Type: %s\" % elem.type)\n",
    "\n"
   ]
  },
  {
   "cell_type": "code",
   "execution_count": 21,
   "id": "tough-outdoors",
   "metadata": {},
   "outputs": [],
   "source": [
    "import requests\n",
    "import subprocess\n",
    "import gzip\n",
    "import os"
   ]
  },
  {
   "cell_type": "code",
   "execution_count": 4,
   "id": "blocked-glass",
   "metadata": {},
   "outputs": [
    {
     "name": "stdout",
     "output_type": "stream",
     "text": [
      "404 rrc00 bview.20110101.0759\n",
      "404 rrc00 bview.20110101.1559\n",
      "404 rrc00 bview.20110101.2359\n",
      "200 rrc00 bview.20110101.0000\n",
      "200 rrc00 bview.20110101.0800\n",
      "200 rrc00 bview.20110101.1600\n"
     ]
    }
   ],
   "source": [
    "collectors = [\"rrc00\", \"rrc01\", \"rrc03\", \"rrc04\", \"rrc05\"]\n",
    "year_list = ['2011', '2013', '2015', '2017', '2019', '2021']\n",
    "month = '01'\n",
    "day_list = [ '01', '02', '03', '04', '05', '06', '07']\n",
    "hour_list = ['0759', '1559', '2359', '0000', '0800', '1600']\n",
    "record_type = \"bview\"\n",
    "dir_name = 'ribs_data/'\n",
    "dir_name_unzip = 'ribs_data_unzip/'\n",
    "dir_name_bgpdump = 'ribs_data_bgpdump/'\n",
    "base_url = 'http://data.ris.ripe.net/'\n",
    "\n",
    "def decompress_file(base_file_name, compressed_content):\n",
    "    with open(dir_name_unzip + base_file_name, 'wb') as f_out:\n",
    "            f_out.write(gzip.decompress(compressed_content))\n",
    "    \n",
    "\n",
    "def bgpdump_file(file_name):\n",
    "    dump_file_name = file_name + '_bgpdump'\n",
    "    with open(dir_name_bgpdump + dump_file_name, 'wb') as file:\n",
    "        file.write(subprocess.run(['bgpdump', \"-m\", dir_name_unzip + file_name ], stdout=subprocess.PIPE).stdout)\n",
    "    \n",
    "\n",
    "for collector in collectors:\n",
    "    for year in year_list:\n",
    "        for day in day_list:\n",
    "            for hour in hour_list:\n",
    "                base_file_name = record_type + '.' + year + month + day + '.' + hour\n",
    "                gzip_file_name = base_file_name + '.gz'\n",
    "\n",
    "                \n",
    "                url = base_url + collector + '/' + year + '.' + month + '/' + gzip_file_name\n",
    "                response = requests.get(url)\n",
    "                print(str(response.status_code) + ' ' + collector + ' ' + base_file_name)\n",
    "                if response.status_code == 200:\n",
    "                    content = response.content\n",
    "                    \n",
    "                    with open(dir_name + collector + '_' + gzip_file_name, \"wb\") as f:\n",
    "                        f.write(content)\n",
    "                    save_file_name = collector + '_' + base_file_name\n",
    "                    decompress_file(save_file_name, content)\n",
    "                    bgpdump_file(save_file_name)\n",
    "\n"
   ]
  },
  {
   "cell_type": "code",
   "execution_count": 22,
   "id": "252d7655-a497-4a17-adf0-e08d6554ead9",
   "metadata": {},
   "outputs": [
    {
     "name": "stdout",
     "output_type": "stream",
     "text": [
      "404 rrc00 bview.20110101.0759\n",
      "404 rrc00 bview.20110101.1559\n",
      "404 rrc00 bview.20110101.2359\n",
      "200 rrc00 bview.20110101.0000\n",
      "Done!!\n"
     ]
    }
   ],
   "source": [
    "collectors = [\"rrc00\"]#, \"rrc01\", \"rrc03\", \"rrc04\", \"rrc05\"]\n",
    "year_list = ['2011']#, '2013', '2015', '2017', '2019', '2021']\n",
    "month = '01'\n",
    "day_list = [ '01']#, '02', '03', '04', '05', '06', '07']\n",
    "hour_list = ['0759', '1559', '2359', '0000']#, '0800', '1600']\n",
    "record_type = \"bview\"\n",
    "dir_name_unzip = 'deneme_unzip/'\n",
    "dir_name_bgpdump = 'deneme/'\n",
    "base_url = 'http://data.ris.ripe.net/'  \n",
    "\n",
    "def decompress_file(base_file_name, compressed_content):\n",
    "    with open(dir_name_unzip + base_file_name, 'wb') as f_out:\n",
    "            f_out.write(gzip.decompress(compressed_content))\n",
    "\n",
    "\n",
    "\n",
    "def bgpdump_file(file_name):\n",
    "    dump_file_name = file_name + '_bgpdump'\n",
    "    with open(dir_name_bgpdump + dump_file_name, 'wb') as file:\n",
    "        file.write(subprocess.run(['bgpdump', \"-m\", dir_name_unzip + file_name ], stdout=subprocess.PIPE).stdout)\n",
    "    os.remove(dir_name_unzip + file_name)\n",
    "\n",
    "\n",
    "for collector in collectors:\n",
    "    for year in year_list:\n",
    "        for day in day_list:\n",
    "            for hour in hour_list:\n",
    "                base_file_name = record_type + '.' + year + month + day + '.' + hour\n",
    "                gzip_file_name = base_file_name + '.gz'\n",
    "\n",
    "                \n",
    "                url = base_url + collector + '/' + year + '.' + month + '/' + gzip_file_name\n",
    "                response = requests.get(url)\n",
    "                print(str(response.status_code) + ' ' + collector + ' ' + base_file_name)\n",
    "                if response.status_code == 200:                    \n",
    "                    content = response.content\n",
    "                    save_file_name = collector + '_' + base_file_name\n",
    "                    decompress_file(save_file_name, content)\n",
    "                    bgpdump_file(save_file_name)\n",
    "print('Done!!')\n"
   ]
  },
  {
   "source": [
    "# ANALYSIS STARTS"
   ],
   "cell_type": "markdown",
   "metadata": {}
  },
  {
   "source": [
    "import pyspark"
   ],
   "cell_type": "code",
   "metadata": {},
   "execution_count": 3,
   "outputs": []
  },
  {
   "cell_type": "code",
   "execution_count": null,
   "metadata": {},
   "outputs": [],
   "source": []
  }
 ],
 "metadata": {
  "kernelspec": {
   "name": "python3",
   "display_name": "Python 3.8.5 64-bit ('peng9630_env': venv)"
  },
  "language_info": {
   "codemirror_mode": {
    "name": "ipython",
    "version": 3
   },
   "file_extension": ".py",
   "mimetype": "text/x-python",
   "name": "python",
   "nbconvert_exporter": "python",
   "pygments_lexer": "ipython3",
   "version": "3.8.5"
  },
  "metadata": {
   "interpreter": {
    "hash": "200f6a75bd8f18705e5bf3f8c397a04a859b8cf0d77cee1b30cb375ed1532c11"
   }
  },
  "interpreter": {
   "hash": "200f6a75bd8f18705e5bf3f8c397a04a859b8cf0d77cee1b30cb375ed1532c11"
  }
 },
 "nbformat": 4,
 "nbformat_minor": 5
}