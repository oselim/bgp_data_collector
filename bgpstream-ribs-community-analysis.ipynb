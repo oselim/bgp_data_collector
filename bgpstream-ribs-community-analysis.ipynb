{
 "cells": [
  {
   "cell_type": "markdown",
   "source": [
    "### Track the extent and evolution of the use of BGP communities.\n",
    "### To this end, please use a set of routing tables from BGPStream that covers the period 2011-2021.\n",
    "### More specifically, use all the routing tables that were available in the first seven days of January of every second year, that is 2011, 2013, 2015, 2017, 2019 and 2021.\n",
    "### Then, identify how many ASes are using communities, rank ASes based on the number of prefixes that are tagged with communities, check what tier-1 ASes use communities for by matching the used communities to what they list publicly.\n",
    "\n",
    "you can use RIBs.\n",
    "In terms of data sources please use RRC00, RRC01, RRC03,RRC04, RRC05\n",
    "\n",
    "I just shared with you a document that describes three course projects.\n",
    "Please pick one of them by the end of tomorrow.\n",
    "The results are supposed to be submitted in the form of a mini report and the deadline is June 27th.\n",
    "On June 28th, we will have a meeting where everyone will go orally through his/her report.\n",
    "Please let me know if you have questions or comments.\n",
    "One more thing, in light of the current tight timeline, we will skip the last paper presentation and just focus on the project.\n",
    "I would also like to draw your attention to the fact that these projects are by no means weekend projects.\n",
    "Depending on your background, you may need to dedicate between two and three weeks."
   ],
   "metadata": {
    "collapsed": false,
    "pycharm": {
     "name": "#%% md\n"
    }
   }
  },
  {
   "cell_type": "markdown",
   "source": [
    "https://labs.ripe.net/author/florian_streibelt/bgp-communities-a-weapon-for-the-internet-part-1/\n"
   ],
   "metadata": {
    "collapsed": false,
    "pycharm": {
     "name": "#%% md\n"
    }
   }
  },
  {
   "source": [
    "sources:  \n",
    "https://www.inet.tu-berlin.de/fileadmin/fg234_teaching/SS14/IM_SS14/im14_05_measuring_networks.pdf  \n",
    "http://bgpresearch.blogspot.com/2013/10/tools_29.html  \n",
    "  \n",
    "\n",
    "\n",
    "  "
   ],
   "cell_type": "markdown",
   "metadata": {}
  },
  {
   "cell_type": "code",
   "execution_count": 2,
   "metadata": {},
   "outputs": [],
   "source": [
    "from pyspark.sql import SparkSession"
   ]
  },
  {
   "cell_type": "code",
   "execution_count": 3,
   "outputs": [],
   "source": [
    "spark = SparkSession \\\n",
    "    .builder \\\n",
    "    .master(\"local[16]\") \\\n",
    "    .appName(\"PENG research\") \\\n",
    "    .config(\"spark.serializer\", \"org.apache.spark.serializer.KryoSerializer\") \\\n",
    "    .config('spark.driver.memory','24g') \\\n",
    "    .config('spark.driver.maxResultSize', '2g') \\\n",
    "    .config('spark.kryoserializer.buffer.max', '1g') \\\n",
    "    .getOrCreate()\n",
    "\n",
    "spark.conf.set(\"spark.sql.repl.eagerEval.enabled\",True)"
   ],
   "metadata": {
    "collapsed": false,
    "pycharm": {
     "name": "#%%\n"
    }
   }
  },
  {
   "cell_type": "code",
   "execution_count": 4,
   "metadata": {},
   "outputs": [],
   "source": [
    "columns = ['type', 'timestamp', 'dump_type', 'peer_router', 'as', 'announced_prefix', 'aspath', 'origin', 'next_hop', '', '', 'communities', '', '', '', '', '', '', ]\n",
    "bgpdump_df = spark.read.csv(path='/global/D1/homes/selim/sample_dataset/rrc00_bview.20110101.1600_bgpdump', sep='|').toDF()"
   ]
  },
  {
   "cell_type": "code",
   "execution_count": 6,
   "metadata": {},
   "outputs": [
    {
     "output_type": "execute_result",
     "data": {
      "text/plain": [
       "+-----------+----------+---+--------------+------+-------------+--------------------+---+--------------+---+----+--------------------+----+----+----+\n",
       "|        _c0|       _c1|_c2|           _c3|   _c4|          _c5|                 _c6|_c7|           _c8|_c9|_c10|                _c11|_c12|_c13|_c14|\n",
       "+-----------+----------+---+--------------+------+-------------+--------------------+---+--------------+---+----+--------------------+----+----+----+\n",
       "|TABLE_DUMP2|1293897600|  B|   91.103.24.2| 42109|   1.9.0.0/16|42109 41965 41877...|EGP|   91.103.24.2|  0|   0|1273:12250 3356:2...| NAG|null|null|\n",
       "|TABLE_DUMP2|1293897600|  B|  203.119.76.3|  4608|   1.9.0.0/16| 4608 1221 4637 4788|IGP|  203.119.76.3|  0|   0|                null| NAG|null|null|\n",
       "|TABLE_DUMP2|1293897600|  B|     12.0.1.63|  7018|   1.9.0.0/16|      7018 3549 4788|IGP|     12.0.1.63|  0|   0|           7018:5000| NAG|null|null|\n",
       "|TABLE_DUMP2|1293897600|  B|   218.189.6.2|  9304|   1.9.0.0/16|           9304 4788|IGP|   218.189.6.2|  0|   0|9304:171 9304:401...| NAG|null|null|\n",
       "|TABLE_DUMP2|1293897600|  B|   202.12.28.1|  4777|   1.9.0.0/16|      4777 2516 4788|IGP|   202.12.28.1|  0|   0|                null| NAG|null|null|\n",
       "|TABLE_DUMP2|1293897600|  B|195.47.235.100|  6881|   1.9.0.0/16|     6881 29208 4788|IGP|195.47.235.100|  0|   0|                null| NAG|null|null|\n",
       "|TABLE_DUMP2|1293897600|  B|213.200.87.254|  3257|   1.9.0.0/16|      3257 3561 4788|IGP|213.200.87.254|  0|  10|3257:8102 3257:30...| NAG|null|null|\n",
       "|TABLE_DUMP2|1293897600|  B|    193.0.0.56|  3333|   1.9.0.0/16|      3333 8218 4788|IGP|    193.0.0.56|  0|   0|            8218:102| NAG|null|null|\n",
       "|TABLE_DUMP2|1293897600|  B|   193.136.5.1|  1930|   1.9.0.0/16|1930 20965 3549 4788|IGP|   193.136.5.1|  0|   0|                null| NAG|null|null|\n",
       "|TABLE_DUMP2|1293897600|  B|  145.125.80.5|196613|   1.9.0.0/16|196613 1125 1103 ...|IGP|  145.125.80.5|  0|   0|           1103:1000| NAG|null|null|\n",
       "|TABLE_DUMP2|1293897600|  B|208.51.134.248|  3549|   1.9.0.0/16|           3549 4788|IGP|208.51.134.248|  0|2785|3549:4025 3549:30...| NAG|null|null|\n",
       "|TABLE_DUMP2|1293897600|  B|   91.103.24.2| 42109|1.11.128.0/17|42109 41965 41877...|EGP|   91.103.24.2|  0|   0|2914:410 2914:100...| NAG|null|null|\n",
       "|TABLE_DUMP2|1293897600|  B|  203.119.76.3|  4608|1.11.128.0/17|4608 1221 4637 47...|IGP|  203.119.76.3|  0|   0|                null| NAG|null|null|\n",
       "|TABLE_DUMP2|1293897600|  B|     12.0.1.63|  7018|1.11.128.0/17|7018 3786 38091 3...|IGP|     12.0.1.63|  0|   0|           7018:2000| NAG|null|null|\n",
       "|TABLE_DUMP2|1293897600|  B|   218.189.6.2|  9304|1.11.128.0/17|9304 4635 9318 38...|EGP|   218.189.6.2|  0|   0|9304:171 9304:421...| NAG|null|null|\n",
       "|TABLE_DUMP2|1293897600|  B|   202.12.28.1|  4777|1.11.128.0/17|4777 2516 9318 38...|IGP|   202.12.28.1|  0|   0|                null| NAG|null|null|\n",
       "|TABLE_DUMP2|1293897600|  B|213.200.87.254|  3257|1.11.128.0/17|3257 2828 9318 38...|IGP|213.200.87.254|  0|  10|3257:8092 3257:30...| NAG|null|null|\n",
       "|TABLE_DUMP2|1293897600|  B|    193.0.0.56|  3333|1.11.128.0/17|3333 2828 9318 38...|IGP|    193.0.0.56|  0|   0|                null| NAG|null|null|\n",
       "|TABLE_DUMP2|1293897600|  B|195.47.235.100|  6881|1.11.128.0/17|6881 25512 3257 2...|IGP|195.47.235.100|  0|   0|                null| NAG|null|null|\n",
       "|TABLE_DUMP2|1293897600|  B|   193.136.5.1|  1930|1.11.128.0/17|1930 20965 3549 2...|IGP|   193.136.5.1|  0|   0|                null| NAG|null|null|\n",
       "+-----------+----------+---+--------------+------+-------------+--------------------+---+--------------+---+----+--------------------+----+----+----+\n",
       "only showing top 20 rows"
      ],
      "text/html": "<table border='1'>\n<tr><th>_c0</th><th>_c1</th><th>_c2</th><th>_c3</th><th>_c4</th><th>_c5</th><th>_c6</th><th>_c7</th><th>_c8</th><th>_c9</th><th>_c10</th><th>_c11</th><th>_c12</th><th>_c13</th><th>_c14</th></tr>\n<tr><td>TABLE_DUMP2</td><td>1293897600</td><td>B</td><td>91.103.24.2</td><td>42109</td><td>1.9.0.0/16</td><td>42109 41965 41877...</td><td>EGP</td><td>91.103.24.2</td><td>0</td><td>0</td><td>1273:12250 3356:2...</td><td>NAG</td><td>null</td><td>null</td></tr>\n<tr><td>TABLE_DUMP2</td><td>1293897600</td><td>B</td><td>203.119.76.3</td><td>4608</td><td>1.9.0.0/16</td><td>4608 1221 4637 4788</td><td>IGP</td><td>203.119.76.3</td><td>0</td><td>0</td><td>null</td><td>NAG</td><td>null</td><td>null</td></tr>\n<tr><td>TABLE_DUMP2</td><td>1293897600</td><td>B</td><td>12.0.1.63</td><td>7018</td><td>1.9.0.0/16</td><td>7018 3549 4788</td><td>IGP</td><td>12.0.1.63</td><td>0</td><td>0</td><td>7018:5000</td><td>NAG</td><td>null</td><td>null</td></tr>\n<tr><td>TABLE_DUMP2</td><td>1293897600</td><td>B</td><td>218.189.6.2</td><td>9304</td><td>1.9.0.0/16</td><td>9304 4788</td><td>IGP</td><td>218.189.6.2</td><td>0</td><td>0</td><td>9304:171 9304:401...</td><td>NAG</td><td>null</td><td>null</td></tr>\n<tr><td>TABLE_DUMP2</td><td>1293897600</td><td>B</td><td>202.12.28.1</td><td>4777</td><td>1.9.0.0/16</td><td>4777 2516 4788</td><td>IGP</td><td>202.12.28.1</td><td>0</td><td>0</td><td>null</td><td>NAG</td><td>null</td><td>null</td></tr>\n<tr><td>TABLE_DUMP2</td><td>1293897600</td><td>B</td><td>195.47.235.100</td><td>6881</td><td>1.9.0.0/16</td><td>6881 29208 4788</td><td>IGP</td><td>195.47.235.100</td><td>0</td><td>0</td><td>null</td><td>NAG</td><td>null</td><td>null</td></tr>\n<tr><td>TABLE_DUMP2</td><td>1293897600</td><td>B</td><td>213.200.87.254</td><td>3257</td><td>1.9.0.0/16</td><td>3257 3561 4788</td><td>IGP</td><td>213.200.87.254</td><td>0</td><td>10</td><td>3257:8102 3257:30...</td><td>NAG</td><td>null</td><td>null</td></tr>\n<tr><td>TABLE_DUMP2</td><td>1293897600</td><td>B</td><td>193.0.0.56</td><td>3333</td><td>1.9.0.0/16</td><td>3333 8218 4788</td><td>IGP</td><td>193.0.0.56</td><td>0</td><td>0</td><td>8218:102</td><td>NAG</td><td>null</td><td>null</td></tr>\n<tr><td>TABLE_DUMP2</td><td>1293897600</td><td>B</td><td>193.136.5.1</td><td>1930</td><td>1.9.0.0/16</td><td>1930 20965 3549 4788</td><td>IGP</td><td>193.136.5.1</td><td>0</td><td>0</td><td>null</td><td>NAG</td><td>null</td><td>null</td></tr>\n<tr><td>TABLE_DUMP2</td><td>1293897600</td><td>B</td><td>145.125.80.5</td><td>196613</td><td>1.9.0.0/16</td><td>196613 1125 1103 ...</td><td>IGP</td><td>145.125.80.5</td><td>0</td><td>0</td><td>1103:1000</td><td>NAG</td><td>null</td><td>null</td></tr>\n<tr><td>TABLE_DUMP2</td><td>1293897600</td><td>B</td><td>208.51.134.248</td><td>3549</td><td>1.9.0.0/16</td><td>3549 4788</td><td>IGP</td><td>208.51.134.248</td><td>0</td><td>2785</td><td>3549:4025 3549:30...</td><td>NAG</td><td>null</td><td>null</td></tr>\n<tr><td>TABLE_DUMP2</td><td>1293897600</td><td>B</td><td>91.103.24.2</td><td>42109</td><td>1.11.128.0/17</td><td>42109 41965 41877...</td><td>EGP</td><td>91.103.24.2</td><td>0</td><td>0</td><td>2914:410 2914:100...</td><td>NAG</td><td>null</td><td>null</td></tr>\n<tr><td>TABLE_DUMP2</td><td>1293897600</td><td>B</td><td>203.119.76.3</td><td>4608</td><td>1.11.128.0/17</td><td>4608 1221 4637 47...</td><td>IGP</td><td>203.119.76.3</td><td>0</td><td>0</td><td>null</td><td>NAG</td><td>null</td><td>null</td></tr>\n<tr><td>TABLE_DUMP2</td><td>1293897600</td><td>B</td><td>12.0.1.63</td><td>7018</td><td>1.11.128.0/17</td><td>7018 3786 38091 3...</td><td>IGP</td><td>12.0.1.63</td><td>0</td><td>0</td><td>7018:2000</td><td>NAG</td><td>null</td><td>null</td></tr>\n<tr><td>TABLE_DUMP2</td><td>1293897600</td><td>B</td><td>218.189.6.2</td><td>9304</td><td>1.11.128.0/17</td><td>9304 4635 9318 38...</td><td>EGP</td><td>218.189.6.2</td><td>0</td><td>0</td><td>9304:171 9304:421...</td><td>NAG</td><td>null</td><td>null</td></tr>\n<tr><td>TABLE_DUMP2</td><td>1293897600</td><td>B</td><td>202.12.28.1</td><td>4777</td><td>1.11.128.0/17</td><td>4777 2516 9318 38...</td><td>IGP</td><td>202.12.28.1</td><td>0</td><td>0</td><td>null</td><td>NAG</td><td>null</td><td>null</td></tr>\n<tr><td>TABLE_DUMP2</td><td>1293897600</td><td>B</td><td>213.200.87.254</td><td>3257</td><td>1.11.128.0/17</td><td>3257 2828 9318 38...</td><td>IGP</td><td>213.200.87.254</td><td>0</td><td>10</td><td>3257:8092 3257:30...</td><td>NAG</td><td>null</td><td>null</td></tr>\n<tr><td>TABLE_DUMP2</td><td>1293897600</td><td>B</td><td>193.0.0.56</td><td>3333</td><td>1.11.128.0/17</td><td>3333 2828 9318 38...</td><td>IGP</td><td>193.0.0.56</td><td>0</td><td>0</td><td>null</td><td>NAG</td><td>null</td><td>null</td></tr>\n<tr><td>TABLE_DUMP2</td><td>1293897600</td><td>B</td><td>195.47.235.100</td><td>6881</td><td>1.11.128.0/17</td><td>6881 25512 3257 2...</td><td>IGP</td><td>195.47.235.100</td><td>0</td><td>0</td><td>null</td><td>NAG</td><td>null</td><td>null</td></tr>\n<tr><td>TABLE_DUMP2</td><td>1293897600</td><td>B</td><td>193.136.5.1</td><td>1930</td><td>1.11.128.0/17</td><td>1930 20965 3549 2...</td><td>IGP</td><td>193.136.5.1</td><td>0</td><td>0</td><td>null</td><td>NAG</td><td>null</td><td>null</td></tr>\n</table>\nonly showing top 20 rows\n"
     },
     "metadata": {},
     "execution_count": 6
    }
   ],
   "source": [
    "bgpdump_df"
   ]
  },
  {
   "cell_type": "code",
   "execution_count": null,
   "metadata": {},
   "outputs": [],
   "source": []
  }
 ],
 "metadata": {
  "kernelspec": {
   "name": "python3",
   "display_name": "Python 3.7.5 64-bit ('peng_env': venv)"
  },
  "language_info": {
   "codemirror_mode": {
    "name": "ipython",
    "version": 2
   },
   "file_extension": ".py",
   "mimetype": "text/x-python",
   "name": "python",
   "nbconvert_exporter": "python",
   "pygments_lexer": "ipython2",
   "version": "3.7.5"
  },
  "metadata": {
   "interpreter": {
    "hash": "39e2658ab20025c17ce5a8c1e915eddb9a4b2fac7a0a1fc5676f269fc4ab734e"
   }
  },
  "interpreter": {
   "hash": "39e2658ab20025c17ce5a8c1e915eddb9a4b2fac7a0a1fc5676f269fc4ab734e"
  }
 },
 "nbformat": 4,
 "nbformat_minor": 0
}